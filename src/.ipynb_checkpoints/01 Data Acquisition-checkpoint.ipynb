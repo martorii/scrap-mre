{
 "cells": [
  {
   "cell_type": "markdown",
   "id": "5c86f522",
   "metadata": {},
   "source": [
    "# Data Acquisition"
   ]
  },
  {
   "cell_type": "markdown",
   "id": "71b1b91d",
   "metadata": {},
   "source": [
    "## Start-up"
   ]
  },
  {
   "cell_type": "code",
   "execution_count": 19,
   "id": "e42b7319",
   "metadata": {},
   "outputs": [
    {
     "name": "stdout",
     "output_type": "stream",
     "text": [
      "The autoreload extension is already loaded. To reload it, use:\n",
      "  %reload_ext autoreload\n"
     ]
    }
   ],
   "source": [
    "%load_ext autoreload\n",
    "%autoreload 2"
   ]
  },
  {
   "cell_type": "code",
   "execution_count": 20,
   "id": "b0abd1a7",
   "metadata": {},
   "outputs": [],
   "source": [
    "# Set main variables\n",
    "MAIN_URL = \"https://www.munichre.com/en\""
   ]
  },
  {
   "cell_type": "code",
   "execution_count": 21,
   "id": "2e2c1fe1",
   "metadata": {},
   "outputs": [],
   "source": [
    "# Import libraries\n",
    "from crawler.utils import (\n",
    "    get_html_from_page,\n",
    "    get_html_from_page_selenium,\n",
    "    get_all_urls_from_html,\n",
    "    get_visible_text_from_html\n",
    ")\n",
    "import tqdm\n",
    "import pandas as pd"
   ]
  },
  {
   "cell_type": "markdown",
   "id": "47e84389",
   "metadata": {},
   "source": [
    "## Let's scrap"
   ]
  },
  {
   "cell_type": "code",
   "execution_count": 22,
   "id": "162b696c",
   "metadata": {},
   "outputs": [],
   "source": [
    "# Get the html from the main page\n",
    "main_html = get_html_from_page_selenium(MAIN_URL, headless=True)"
   ]
  },
  {
   "cell_type": "code",
   "execution_count": 23,
   "id": "24ebd431",
   "metadata": {},
   "outputs": [],
   "source": [
    "# Get all href\n",
    "urls_from_main = get_all_urls_from_html(main_html)"
   ]
  },
  {
   "cell_type": "code",
   "execution_count": 24,
   "id": "14b0efce",
   "metadata": {},
   "outputs": [],
   "source": [
    "# Only those that point at a munich re webpage\n",
    "useful_urls = [url for url in urls_from_main if url.startswith(\"https://www.munichre.com/en\")]\n",
    "\n",
    "# Remove duplicates\n",
    "useful_urls = list(set(useful_urls))"
   ]
  },
  {
   "cell_type": "code",
   "execution_count": 25,
   "id": "04e4a02a",
   "metadata": {},
   "outputs": [
    {
     "name": "stderr",
     "output_type": "stream",
     "text": [
      "100%|██████████| 805/805 [02:56<00:00,  4.56it/s]\n"
     ]
    }
   ],
   "source": [
    "# Iterate over all urls and store them\n",
    "scrapped_urls = []\n",
    "text_list = []\n",
    "for url in tqdm.tqdm(useful_urls):\n",
    "    # Add it to the list\n",
    "    if url not in scrapped_urls:\n",
    "        try:\n",
    "            # Get html from page\n",
    "            html = get_html_from_page(url)\n",
    "            # Extract only the visible text\n",
    "            text = get_visible_text_from_html(html)\n",
    "            # Append\n",
    "            text_list.append(text)\n",
    "            scrapped_urls.append(url)\n",
    "        except:\n",
    "            print(f\"Could not get text from {url}\")"
   ]
  },
  {
   "cell_type": "code",
   "execution_count": 26,
   "id": "b6d73153",
   "metadata": {},
   "outputs": [],
   "source": [
    "# Store results as a pandas dataframe\n",
    "results_df = pd.DataFrame(\n",
    "    data={\n",
    "        'url': scrapped_urls,\n",
    "        'text': text_list\n",
    "    }\n",
    ")\n",
    "results_df.to_csv('../data/01_raw_df.csv', index=False)"
   ]
  }
 ],
 "metadata": {
  "kernelspec": {
   "display_name": "Python 3 (ipykernel)",
   "language": "python",
   "name": "python3"
  },
  "language_info": {
   "codemirror_mode": {
    "name": "ipython",
    "version": 3
   },
   "file_extension": ".py",
   "mimetype": "text/x-python",
   "name": "python",
   "nbconvert_exporter": "python",
   "pygments_lexer": "ipython3",
   "version": "3.8.16"
  },
  "toc": {
   "base_numbering": 1,
   "nav_menu": {},
   "number_sections": true,
   "sideBar": true,
   "skip_h1_title": false,
   "title_cell": "Table of Contents",
   "title_sidebar": "Contents",
   "toc_cell": false,
   "toc_position": {},
   "toc_section_display": true,
   "toc_window_display": false
  }
 },
 "nbformat": 4,
 "nbformat_minor": 5
}
