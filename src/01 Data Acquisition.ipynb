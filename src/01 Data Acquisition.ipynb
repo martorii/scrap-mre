{
 "cells": [
  {
   "cell_type": "markdown",
   "id": "302f868e",
   "metadata": {},
   "source": [
    "# Data Acquisition"
   ]
  },
  {
   "cell_type": "markdown",
   "id": "608b0077",
   "metadata": {},
   "source": [
    "## Start-up"
   ]
  },
  {
   "cell_type": "code",
   "execution_count": 1,
   "id": "e9347f81",
   "metadata": {},
   "outputs": [],
   "source": [
    "%load_ext autoreload\n",
    "%autoreload 2"
   ]
  },
  {
   "cell_type": "code",
   "execution_count": 2,
   "id": "b0abd1a7",
   "metadata": {},
   "outputs": [],
   "source": [
    "# Set main variables\n",
    "MAIN_URL = \"https://www.munichre.com/en\""
   ]
  },
  {
   "cell_type": "code",
   "execution_count": 3,
   "id": "7d80b503",
   "metadata": {},
   "outputs": [],
   "source": [
    "# Import libraries\n",
    "from crawler.utils import (\n",
    "    get_html_from_page,\n",
    "    get_html_from_page_selenium,\n",
    "    get_all_urls_from_html,\n",
    "    get_visible_text_from_html\n",
    ")\n",
    "import tqdm\n",
    "import pandas as pd"
   ]
  },
  {
   "cell_type": "markdown",
   "id": "1d5f7d91",
   "metadata": {},
   "source": [
    "## Let's scrap"
   ]
  },
  {
   "cell_type": "code",
   "execution_count": 4,
   "id": "fbe10c09",
   "metadata": {},
   "outputs": [],
   "source": [
    "# Get the html from the main page\n",
    "main_html = get_html_from_page_selenium(MAIN_URL, headless=True)"
   ]
  },
  {
   "cell_type": "code",
   "execution_count": 5,
   "id": "376079ad",
   "metadata": {},
   "outputs": [],
   "source": [
    "# Get all href\n",
    "urls_from_main = get_all_urls_from_html(main_html)"
   ]
  },
  {
   "cell_type": "code",
   "execution_count": 6,
   "id": "45acd01d",
   "metadata": {},
   "outputs": [],
   "source": [
    "# Only those that point at a munich re webpage\n",
    "useful_urls = [url for url in urls_from_main if url.startswith(\"https://www.munichre.com/en\")]\n",
    "\n",
    "# Remove duplicates\n",
    "useful_urls = list(set(useful_urls))"
   ]
  },
  {
   "cell_type": "code",
   "execution_count": 8,
   "id": "6cab27d9",
   "metadata": {},
   "outputs": [
    {
     "name": "stderr",
     "output_type": "stream",
     "text": [
      " 12%|█▏        | 93/805 [22:25<2:14:57, 11.37s/it]"
     ]
    },
    {
     "name": "stdout",
     "output_type": "stream",
     "text": [
      "Could not get text from https://www.munichre.com/en/company/media-relations/media-information-and-corporate-news/media-information/2007/2007-11-06-munich-re-support-for-project-to-develop-a-global-open-source-earthquake-model-global-earthquake-model-generating-information-of-the-highest-standard-through-cooperation-between-many-of-the-worlds-top-earthquake-experts-munich-re-sees-improved-opportunities-in-the-medium-term-for-loss-prevention-and-insurability.html\n"
     ]
    },
    {
     "name": "stderr",
     "output_type": "stream",
     "text": [
      " 23%|██▎       | 184/805 [39:41<1:57:36, 11.36s/it]"
     ]
    },
    {
     "name": "stdout",
     "output_type": "stream",
     "text": [
      "Could not get text from https://www.munichre.com/en/company/media-relations/media-information-and-corporate-news/media-information/2005/2005-03-15-munich-re-group-2004-profit-of-eur1833bn-pleasing-combined-ratio-of-989-in-reinsurance-despite-high-natural-catastrophe-losses-combined-ratio-in-primary-insurance-of-only-930-dividend-proposal-of-eur200-125-per-share-target-for-anniversary-year-2005-12-return-on-equity-innovation-offensive-to-create-new-earnings-potentials.html\n"
     ]
    },
    {
     "name": "stderr",
     "output_type": "stream",
     "text": [
      " 73%|███████▎  | 584/805 [2:03:01<41:08, 11.17s/it]  "
     ]
    },
    {
     "name": "stdout",
     "output_type": "stream",
     "text": [
      "Could not get text from https://www.munichre.com/en/company/media-relations/media-information-and-corporate-news/media-information/2007/2007-12-27-natural-catastrophe-figures-for-2007-higher-losses-despite-absence-of-megacatastrophes-very-many-loss-events-overall-economic-losses-of-us-75bn-board-member-dr-torsten-jeworrek-loss-figures-in-line-with-the-rising-trend-in-natural-catastrophes-munich-re-is-prepared.html\n"
     ]
    },
    {
     "name": "stderr",
     "output_type": "stream",
     "text": [
      " 96%|█████████▌| 770/805 [2:41:30<06:34, 11.26s/it]"
     ]
    },
    {
     "name": "stdout",
     "output_type": "stream",
     "text": [
      "Could not get text from https://www.munichre.com/en/company/media-relations/media-information-and-corporate-news/media-information/2007/2007-12-13-munich-re-investors-day-focuses-on-the-groups-primary-insurance-business-munich-re-demonstrates-success-of-integrated-business-model-with-primary-insurance-and-reinsurance-ergo-insurance-group-to-contribute-significantly-to-achieving-the-financial-objectives-of-the-munich-re-groups-changing-gear-programme-ergo-with-ambitious-targets-for-2012-normalised-profit-of-over-eur900m-and-sustainable-roe-of-12-15-with-a-premium-volume-of-over-eur23bn-optimised-capital-structure-ergo-plans-payment-of-eur10bn-dividend-and-financing-through-hybrid-capital.html\n"
     ]
    },
    {
     "name": "stderr",
     "output_type": "stream",
     "text": [
      "100%|██████████| 805/805 [2:48:27<00:00, 12.56s/it]\n"
     ]
    }
   ],
   "source": [
    "# Iterate over all urls and store them\n",
    "scrapped_urls = []\n",
    "text_list = []\n",
    "for url in tqdm.tqdm(useful_urls):\n",
    "    # Add it to the list\n",
    "    if url not in scrapped_urls:\n",
    "        try:\n",
    "            # Get html from page\n",
    "            html = get_html_from_page_selenium(url, headless=True)\n",
    "            # Extract only the visible text\n",
    "            text = get_visible_text_from_html(html)\n",
    "            # Append\n",
    "            text_list.append(text)\n",
    "            scrapped_urls.append(url)\n",
    "        except:\n",
    "            print(f\"Could not get text from {url}\")"
   ]
  },
  {
   "cell_type": "code",
   "execution_count": 9,
   "id": "a359bcb7",
   "metadata": {},
   "outputs": [],
   "source": [
    "# Store results as a pandas dataframe\n",
    "results_df = pd.DataFrame(\n",
    "    data={\n",
    "        'url': scrapped_urls,\n",
    "        'text': text_list\n",
    "    }\n",
    ")\n",
    "results_df.to_csv('../data/01_raw_df.csv', index=False)"
   ]
  },
  {
   "cell_type": "code",
   "execution_count": null,
   "id": "27595b20",
   "metadata": {},
   "outputs": [],
   "source": []
  }
 ],
 "metadata": {
  "kernelspec": {
   "display_name": "Python 3 (ipykernel)",
   "language": "python",
   "name": "python3"
  },
  "language_info": {
   "codemirror_mode": {
    "name": "ipython",
    "version": 3
   },
   "file_extension": ".py",
   "mimetype": "text/x-python",
   "name": "python",
   "nbconvert_exporter": "python",
   "pygments_lexer": "ipython3",
   "version": "3.8.16"
  },
  "toc": {
   "base_numbering": 1,
   "nav_menu": {},
   "number_sections": true,
   "sideBar": true,
   "skip_h1_title": false,
   "title_cell": "Table of Contents",
   "title_sidebar": "Contents",
   "toc_cell": false,
   "toc_position": {},
   "toc_section_display": true,
   "toc_window_display": false
  }
 },
 "nbformat": 4,
 "nbformat_minor": 5
}
