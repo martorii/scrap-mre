{
 "cells": [
  {
   "cell_type": "code",
   "execution_count": 2,
   "id": "4f041a6d",
   "metadata": {},
   "outputs": [],
   "source": [
    "import pickle\n",
    "from model.Model import Model\n",
    "\n",
    "with open(\"model/model.pkl\", \"rb\") as file:\n",
    "    model = pickle.load(file)"
   ]
  },
  {
   "cell_type": "code",
   "execution_count": 3,
   "id": "8712b636",
   "metadata": {},
   "outputs": [],
   "source": [
    "texts = [\n",
    "    'ai is the future of data science',\n",
    "    'Heute sollten wir doch Pommes essen.',\n",
    "    'Non si può vincere senza una buona squadra',\n",
    "    'I care about the environment'\n",
    "]\n",
    "preds = model.predict(texts)"
   ]
  },
  {
   "cell_type": "code",
   "execution_count": 4,
   "id": "02eef3b4",
   "metadata": {},
   "outputs": [
    {
     "name": "stdout",
     "output_type": "stream",
     "text": [
      "1: ai is the future of data science\n",
      "-1: Heute sollten wir doch Pommes essen.\n",
      "-1: Non si può vincere senza una buona squadra\n",
      "0: I care about the environment\n"
     ]
    }
   ],
   "source": [
    "for text, pred in zip(texts, preds):\n",
    "    print(\n",
    "        f\"{pred}: {text}\"\n",
    "    )"
   ]
  },
  {
   "cell_type": "code",
   "execution_count": null,
   "id": "9f81493e",
   "metadata": {},
   "outputs": [],
   "source": []
  }
 ],
 "metadata": {
  "kernelspec": {
   "display_name": "Python 3 (ipykernel)",
   "language": "python",
   "name": "python3"
  },
  "language_info": {
   "codemirror_mode": {
    "name": "ipython",
    "version": 3
   },
   "file_extension": ".py",
   "mimetype": "text/x-python",
   "name": "python",
   "nbconvert_exporter": "python",
   "pygments_lexer": "ipython3",
   "version": "3.8.16"
  },
  "toc": {
   "base_numbering": 1,
   "nav_menu": {},
   "number_sections": true,
   "sideBar": true,
   "skip_h1_title": false,
   "title_cell": "Table of Contents",
   "title_sidebar": "Contents",
   "toc_cell": false,
   "toc_position": {},
   "toc_section_display": true,
   "toc_window_display": false
  }
 },
 "nbformat": 4,
 "nbformat_minor": 5
}
